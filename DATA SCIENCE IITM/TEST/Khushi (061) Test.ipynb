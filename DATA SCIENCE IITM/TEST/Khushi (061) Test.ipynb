{
 "cells": [
  {
   "cell_type": "code",
   "execution_count": 1,
   "id": "fd0b1ba8-a38b-4818-b0a3-74879588c9b7",
   "metadata": {},
   "outputs": [],
   "source": [
    "#Ans1- \n",
    "#Lists are mutable, it means they CAN be changed or updated after creation. We define lists in square brackets[]. eg:\n",
    "    #list = [1,2,3,4]\n",
    "\n",
    "#Tuples are immutable, it means they CANT be changed or updated after creation. We define tuples in parenthesis(). eg:\n",
    "    #tuple = (5,6,7,8)"
   ]
  },
  {
   "cell_type": "code",
   "execution_count": 54,
   "id": "242c2cc5-0c8f-4eea-b1cd-5e94548b5d57",
   "metadata": {},
   "outputs": [
    {
     "ename": "KeyboardInterrupt",
     "evalue": "Interrupted by user",
     "output_type": "error",
     "traceback": [
      "\u001b[1;31m---------------------------------------------------------------------------\u001b[0m",
      "\u001b[1;31mKeyboardInterrupt\u001b[0m                         Traceback (most recent call last)",
      "Cell \u001b[1;32mIn[54], line 7\u001b[0m\n\u001b[0;32m      1\u001b[0m \u001b[38;5;66;03m#Ans2-\u001b[39;00m\n\u001b[0;32m      2\u001b[0m \u001b[38;5;66;03m#Input() function is used to take input from the user. \u001b[39;00m\n\u001b[0;32m      3\u001b[0m     \u001b[38;5;66;03m#eg:  input('enter your age')\u001b[39;00m\n\u001b[0;32m      4\u001b[0m \u001b[38;5;66;03m#if we want to convert this into an integer, we just have to write INT before like. int(input('enter your age')), this is known as Type Casting.\u001b[39;00m\n\u001b[0;32m      5\u001b[0m \u001b[38;5;66;03m#by default it takes string arguments like ABC, so if we pass an integer it will return '123'\u001b[39;00m\n\u001b[1;32m----> 7\u001b[0m a \u001b[38;5;241m=\u001b[39m \u001b[38;5;28minput\u001b[39m(\u001b[38;5;124m'\u001b[39m\u001b[38;5;124menter your age\u001b[39m\u001b[38;5;124m'\u001b[39m)\n",
      "File \u001b[1;32m~\\anaconda3\\Lib\\site-packages\\ipykernel\\kernelbase.py:1282\u001b[0m, in \u001b[0;36mKernel.raw_input\u001b[1;34m(self, prompt)\u001b[0m\n\u001b[0;32m   1280\u001b[0m     msg \u001b[38;5;241m=\u001b[39m \u001b[38;5;124m\"\u001b[39m\u001b[38;5;124mraw_input was called, but this frontend does not support input requests.\u001b[39m\u001b[38;5;124m\"\u001b[39m\n\u001b[0;32m   1281\u001b[0m     \u001b[38;5;28;01mraise\u001b[39;00m StdinNotImplementedError(msg)\n\u001b[1;32m-> 1282\u001b[0m \u001b[38;5;28;01mreturn\u001b[39;00m \u001b[38;5;28mself\u001b[39m\u001b[38;5;241m.\u001b[39m_input_request(\n\u001b[0;32m   1283\u001b[0m     \u001b[38;5;28mstr\u001b[39m(prompt),\n\u001b[0;32m   1284\u001b[0m     \u001b[38;5;28mself\u001b[39m\u001b[38;5;241m.\u001b[39m_parent_ident[\u001b[38;5;124m\"\u001b[39m\u001b[38;5;124mshell\u001b[39m\u001b[38;5;124m\"\u001b[39m],\n\u001b[0;32m   1285\u001b[0m     \u001b[38;5;28mself\u001b[39m\u001b[38;5;241m.\u001b[39mget_parent(\u001b[38;5;124m\"\u001b[39m\u001b[38;5;124mshell\u001b[39m\u001b[38;5;124m\"\u001b[39m),\n\u001b[0;32m   1286\u001b[0m     password\u001b[38;5;241m=\u001b[39m\u001b[38;5;28;01mFalse\u001b[39;00m,\n\u001b[0;32m   1287\u001b[0m )\n",
      "File \u001b[1;32m~\\anaconda3\\Lib\\site-packages\\ipykernel\\kernelbase.py:1325\u001b[0m, in \u001b[0;36mKernel._input_request\u001b[1;34m(self, prompt, ident, parent, password)\u001b[0m\n\u001b[0;32m   1322\u001b[0m \u001b[38;5;28;01mexcept\u001b[39;00m \u001b[38;5;167;01mKeyboardInterrupt\u001b[39;00m:\n\u001b[0;32m   1323\u001b[0m     \u001b[38;5;66;03m# re-raise KeyboardInterrupt, to truncate traceback\u001b[39;00m\n\u001b[0;32m   1324\u001b[0m     msg \u001b[38;5;241m=\u001b[39m \u001b[38;5;124m\"\u001b[39m\u001b[38;5;124mInterrupted by user\u001b[39m\u001b[38;5;124m\"\u001b[39m\n\u001b[1;32m-> 1325\u001b[0m     \u001b[38;5;28;01mraise\u001b[39;00m \u001b[38;5;167;01mKeyboardInterrupt\u001b[39;00m(msg) \u001b[38;5;28;01mfrom\u001b[39;00m\u001b[38;5;250m \u001b[39m\u001b[38;5;28;01mNone\u001b[39;00m\n\u001b[0;32m   1326\u001b[0m \u001b[38;5;28;01mexcept\u001b[39;00m \u001b[38;5;167;01mException\u001b[39;00m:\n\u001b[0;32m   1327\u001b[0m     \u001b[38;5;28mself\u001b[39m\u001b[38;5;241m.\u001b[39mlog\u001b[38;5;241m.\u001b[39mwarning(\u001b[38;5;124m\"\u001b[39m\u001b[38;5;124mInvalid Message:\u001b[39m\u001b[38;5;124m\"\u001b[39m, exc_info\u001b[38;5;241m=\u001b[39m\u001b[38;5;28;01mTrue\u001b[39;00m)\n",
      "\u001b[1;31mKeyboardInterrupt\u001b[0m: Interrupted by user"
     ]
    }
   ],
   "source": [
    "#Ans2-\n",
    "#Input() function is used to take input from the user. \n",
    "    #eg:  input('enter your age')\n",
    "#if we want to convert this into an integer, we just have to write INT before like. int(input('enter your age')), this is known as Type Casting.\n",
    "#by default it takes string arguments like ABC, so if we pass an integer it will return '123'\n",
    "\n",
    "a = input('enter your age')"
   ]
  },
  {
   "cell_type": "code",
   "execution_count": 6,
   "id": "8f45b9e5-30c9-44d7-ba23-0da0c3177851",
   "metadata": {},
   "outputs": [],
   "source": [
    "#Ans3-\n",
    "#Python Dictionaries are the key-value pairs, where the keys cant be same(have to be UNIQUE) and values can be similar.\n",
    "#We define dictionary in CURLY BRACES {}\n",
    "#It is also known as Golden Ratio.\n",
    "#It can also be nested which means we can make dictionary within a dictionary\n",
    "#Eg: \n",
    "# dict = {Name: ['Khushi','Devansh','Nikita'],\n",
    "#         Course: ['BCA','BCA','BBA']\n",
    "#         Age: [20,19,18] }\n"
   ]
  },
  {
   "cell_type": "code",
   "execution_count": 17,
   "id": "3e03f4fd-35b3-4c19-8b1b-4ed50d0e276f",
   "metadata": {},
   "outputs": [
    {
     "name": "stdout",
     "output_type": "stream",
     "text": [
      "1\n",
      "2\n",
      "3\n",
      "4\n",
      "5\n"
     ]
    }
   ],
   "source": [
    "# Ans4-\n",
    "# For loop is one of the loop that we have in Python. It allows a block of code to be repeated again and again. It iterates over a sequence.\n",
    "for i in range(1,6):\n",
    "    print(i)\n",
    "#it takes one less argument, if we have written 6, it will take one less that is 5"
   ]
  },
  {
   "cell_type": "code",
   "execution_count": 18,
   "id": "5e200f33-f780-4f0f-9b39-75d7a86ead8b",
   "metadata": {},
   "outputs": [
    {
     "ename": "SyntaxError",
     "evalue": "invalid syntax (1085242409.py, line 4)",
     "output_type": "error",
     "traceback": [
      "\u001b[1;36m  Cell \u001b[1;32mIn[18], line 4\u001b[1;36m\u001b[0m\n\u001b[1;33m    Try and Except are 2 blocks that help us in Exception Handling.\u001b[0m\n\u001b[1;37m                   ^\u001b[0m\n\u001b[1;31mSyntaxError\u001b[0m\u001b[1;31m:\u001b[0m invalid syntax\n"
     ]
    }
   ],
   "source": [
    "#Ans5-\n",
    "# Exception is an error that disrupts the flow of the program.\n",
    "# Exception Handling is handling the error and make the program error free.\n",
    "\n",
    "Try and Except are 2 blocks that help us in Exception Handling.\n",
    "Try = it tests error\n",
    "Except = it handles the code if there is any error\n",
    "Finally = it runs the code after error\n",
    "class rst():\n",
    "    "
   ]
  },
  {
   "cell_type": "code",
   "execution_count": 24,
   "id": "6d3eb443-95fb-4076-93a3-b9af1ae6a49f",
   "metadata": {},
   "outputs": [
    {
     "name": "stdout",
     "output_type": "stream",
     "text": [
      "2.0\n",
      "4.242640687119285\n"
     ]
    }
   ],
   "source": [
    "#Ans6- \n",
    "#Python Modules- are the files containing Python Code.\n",
    "#We use IMPORT to download or use the modules.\n",
    "#We have over 6Lakh plus modules in Python.\n",
    "\n",
    "\n",
    "#here we are importing math module\n",
    "import math\n",
    "x = 4 \n",
    "result = math.sqrt(x)  \n",
    "print (result) \n",
    "\n",
    "#here we are using the square root function from math module\n",
    "from math import sqrt\n",
    "x = 18\n",
    "result = sqrt(x)\n",
    "print (result)"
   ]
  },
  {
   "cell_type": "code",
   "execution_count": 35,
   "id": "f6e4158b-b0fe-4eef-8820-6dbcb3ebb8cc",
   "metadata": {},
   "outputs": [],
   "source": [
    "#Ans7- \n",
    "# OOPS stands for Object Oriented Programming Language.\n",
    "# It is a high level language.\n",
    "# it has 4 pillars named: \n",
    "# 1. Encapsulation (binding class and  data together)\n",
    "# 2. Abstraction (displaying the essential information and hiding background implementation)\n",
    "# 3. Inheritance (inheriting properties from one class to the other, super class= who's properties are inherited, sub class = who inherits the properties\n",
    "# 4. Polymorphism (poly = many, morph = forms, it is the ability to display message in multiple forms)\n",
    "\n",
    "class Hello:\n",
    "    def say_hello(self):\n",
    "        name = input('enter your name')\n",
    "        print(f'hello {name}')"
   ]
  },
  {
   "cell_type": "code",
   "execution_count": 38,
   "id": "cc1930db-b1e9-4b00-a307-f4f2d8ad1a4c",
   "metadata": {},
   "outputs": [],
   "source": [
    "hey = Hello() "
   ]
  },
  {
   "cell_type": "code",
   "execution_count": 40,
   "id": "f114677c-5d2e-4125-917a-e5fbfe12ba28",
   "metadata": {},
   "outputs": [
    {
     "name": "stdin",
     "output_type": "stream",
     "text": [
      "enter your name Khushi\n"
     ]
    },
    {
     "name": "stdout",
     "output_type": "stream",
     "text": [
      "hello Khushi\n"
     ]
    }
   ],
   "source": [
    "hey.say_hello() "
   ]
  },
  {
   "cell_type": "code",
   "execution_count": 46,
   "id": "90999a6b-c28c-4589-8f1b-2a09ed9dd85d",
   "metadata": {},
   "outputs": [],
   "source": [
    "# Ans8-\n",
    "# List Comprehension: it is a way to create lists based on existing variables"
   ]
  },
  {
   "cell_type": "code",
   "execution_count": 48,
   "id": "c51c51bb-0d60-4b0f-8be5-1abfc715b7ed",
   "metadata": {},
   "outputs": [],
   "source": [
    "# Ans9\n",
    "import math\n",
    "def calculate_area():\n",
    "    radius = float(input('enter the radius: '))\n",
    "    area = radius*3.14\n",
    "    print(area)"
   ]
  },
  {
   "cell_type": "code",
   "execution_count": 49,
   "id": "85206ba1-b620-4337-b452-f75d5e2488fc",
   "metadata": {},
   "outputs": [
    {
     "name": "stdin",
     "output_type": "stream",
     "text": [
      "enter the radius:  5\n"
     ]
    },
    {
     "name": "stdout",
     "output_type": "stream",
     "text": [
      "15.700000000000001\n"
     ]
    }
   ],
   "source": [
    "a = calculate_area()"
   ]
  },
  {
   "cell_type": "code",
   "execution_count": 51,
   "id": "7eb0f438-b9ec-47dd-ad0d-5c0ed5c8d901",
   "metadata": {},
   "outputs": [
    {
     "name": "stdin",
     "output_type": "stream",
     "text": [
      "enter your name Khushi\n",
      "enter your age 20\n"
     ]
    },
    {
     "name": "stdout",
     "output_type": "stream",
     "text": [
      "Hello Khushi, you are 20 years old\n"
     ]
    }
   ],
   "source": [
    "#Ans10- \n",
    "name = input('enter your name')\n",
    "age = int(input('enter your age'))\n",
    "print (f'Hello {name}, you are {age} years old')"
   ]
  },
  {
   "cell_type": "code",
   "execution_count": 61,
   "id": "8b1ffc39-caa8-4cc6-84d0-eade79c27a47",
   "metadata": {},
   "outputs": [
    {
     "name": "stdout",
     "output_type": "stream",
     "text": [
      "(1, 'Apple')\n",
      "(2, 'Mango')\n",
      "(3, 'Grapes')\n",
      "(4, 'Orange')\n",
      "(5, 'Cherry')\n"
     ]
    }
   ],
   "source": [
    "# Ans11- \n",
    "fruits = ['Apple', 'Mango', 'Grapes', 'Orange', 'Cherry']\n",
    "for i in enumerate(fruits, 1):\n",
    "    print(i)"
   ]
  },
  {
   "cell_type": "code",
   "execution_count": 62,
   "id": "c5147911-d266-45c4-965a-2716aea081dd",
   "metadata": {},
   "outputs": [],
   "source": [
    "#Ans12-\n",
    "def grade_calculator():\n",
    "    sub_1 = int(input('enter marks of your subject 1: '))\n",
    "    sub_2 = int(input('enter marks of your subject 2: '))\n",
    "    sub_3 = int(input('enter marks of your subject 3: '))\n",
    "\n",
    "    total_marks = 0\n",
    "    if marks > 90:\n",
    "        print('A Grade')\n",
    "    elif  89 <marks> 80: \n",
    "        print ('B Grade')\n",
    "    elif 79 <marks> 70:\n",
    "        print ('C Grade')\n",
    "    elif 69 <marks> 60:\n",
    "        print ('D Grade')\n",
    "    else:\n",
    "        print('F')\n",
    "\n",
    "total_marks"
   ]
  },
  {
   "cell_type": "code",
   "execution_count": 63,
   "id": "be891b9e-7c2a-431c-8b16-766c3f04639a",
   "metadata": {},
   "outputs": [
    {
     "name": "stdin",
     "output_type": "stream",
     "text": [
      "enter marks of your subject 1:  45\n",
      "enter marks of your subject 2:  78\n",
      "enter marks of your subject 3:  52\n"
     ]
    },
    {
     "ename": "NameError",
     "evalue": "name 'marks' is not defined",
     "output_type": "error",
     "traceback": [
      "\u001b[1;31m---------------------------------------------------------------------------\u001b[0m",
      "\u001b[1;31mNameError\u001b[0m                                 Traceback (most recent call last)",
      "Cell \u001b[1;32mIn[63], line 1\u001b[0m\n\u001b[1;32m----> 1\u001b[0m B \u001b[38;5;241m=\u001b[39m grade_calculator()\n",
      "Cell \u001b[1;32mIn[62], line 8\u001b[0m, in \u001b[0;36mgrade_calculator\u001b[1;34m()\u001b[0m\n\u001b[0;32m      5\u001b[0m sub_3 \u001b[38;5;241m=\u001b[39m \u001b[38;5;28mint\u001b[39m(\u001b[38;5;28minput\u001b[39m(\u001b[38;5;124m'\u001b[39m\u001b[38;5;124menter marks of your subject 3: \u001b[39m\u001b[38;5;124m'\u001b[39m))\n\u001b[0;32m      7\u001b[0m total_marks \u001b[38;5;241m=\u001b[39m \u001b[38;5;241m0\u001b[39m\n\u001b[1;32m----> 8\u001b[0m \u001b[38;5;28;01mif\u001b[39;00m marks \u001b[38;5;241m>\u001b[39m \u001b[38;5;241m90\u001b[39m:\n\u001b[0;32m      9\u001b[0m     \u001b[38;5;28mprint\u001b[39m(\u001b[38;5;124m'\u001b[39m\u001b[38;5;124mA Grade\u001b[39m\u001b[38;5;124m'\u001b[39m)\n\u001b[0;32m     10\u001b[0m \u001b[38;5;28;01melif\u001b[39;00m  \u001b[38;5;241m89\u001b[39m \u001b[38;5;241m<\u001b[39mmarks\u001b[38;5;241m>\u001b[39m \u001b[38;5;241m80\u001b[39m: \n",
      "\u001b[1;31mNameError\u001b[0m: name 'marks' is not defined"
     ]
    }
   ],
   "source": [
    "B = grade_calculator()"
   ]
  },
  {
   "cell_type": "code",
   "execution_count": 65,
   "id": "32872df3-4b5b-4efe-a69b-a1b48f8958d6",
   "metadata": {},
   "outputs": [
    {
     "name": "stdout",
     "output_type": "stream",
     "text": [
      "Prime numbers between 1 and 50 are:\n",
      "\n",
      "2  3  5  7  11\n",
      "13  17  19  23  29\n",
      "31  37  41  43  47\n"
     ]
    }
   ],
   "source": [
    "#Ans15-\n",
    "def is_prime(num):\n",
    "    if num < 2:\n",
    "        return False\n",
    "    for i in range(2, int(num**0.5)+1):\n",
    "        if num % i == 0:\n",
    "            return False\n",
    "    return True\n",
    "\n",
    "print(\"Prime numbers between 1 and 50 are:\\n\")\n",
    "\n",
    "prime_numbers = []\n",
    "for number in range(1, 51):\n",
    "    if is_prime(number):\n",
    "        prime_numbers.append(number)\n",
    "\n"
   ]
  },
  {
   "cell_type": "code",
   "execution_count": null,
   "id": "f6941e2f-1230-435b-a950-42860fbc5327",
   "metadata": {},
   "outputs": [],
   "source": []
  }
 ],
 "metadata": {
  "kernelspec": {
   "display_name": "Python [conda env:base] *",
   "language": "python",
   "name": "conda-base-py"
  },
  "language_info": {
   "codemirror_mode": {
    "name": "ipython",
    "version": 3
   },
   "file_extension": ".py",
   "mimetype": "text/x-python",
   "name": "python",
   "nbconvert_exporter": "python",
   "pygments_lexer": "ipython3",
   "version": "3.13.5"
  }
 },
 "nbformat": 4,
 "nbformat_minor": 5
}
